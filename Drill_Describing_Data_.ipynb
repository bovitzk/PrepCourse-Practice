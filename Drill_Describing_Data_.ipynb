{
 "cells": [
  {
   "cell_type": "code",
   "execution_count": 2,
   "metadata": {},
   "outputs": [],
   "source": [
    "import numpy as np\n",
    "import pandas as pd\n",
    "from collections import OrderedDict\n",
    "from scipy import stats\n",
    "%matplotlib inline"
   ]
  },
  {
   "cell_type": "code",
   "execution_count": 19,
   "metadata": {},
   "outputs": [],
   "source": [
    "data = {\"names\": [\"Greg\", \"Marcia\", \"Peter\", \"Jan\", \"Bobby\", \"Cindy\", \"Cousin Oliver\"], \"ages\": [14, 12, 11, 10, 8, 6, 8]}\n",
    "df = pd.DataFrame(data)"
   ]
  },
  {
   "cell_type": "code",
   "execution_count": 20,
   "metadata": {},
   "outputs": [
    {
     "name": "stdout",
     "output_type": "stream",
     "text": [
      "   ages          names\n",
      "0    14           Greg\n",
      "1    12         Marcia\n",
      "2    11          Peter\n",
      "3    10            Jan\n",
      "4     8          Bobby\n",
      "5     6          Cindy\n",
      "6     8  Cousin Oliver\n"
     ]
    }
   ],
   "source": [
    "print(df)"
   ]
  },
  {
   "cell_type": "code",
   "execution_count": 21,
   "metadata": {},
   "outputs": [
    {
     "name": "stdout",
     "output_type": "stream",
     "text": [
      "Ages Mean: 9.85714285714\n",
      "Median: 10.0\n",
      "Mode: 0    8\n",
      "dtype: int64\n"
     ]
    }
   ],
   "source": [
    "print(\"Ages Mean: \" + str(df.ages.mean()))\n",
    "print(\"Median: \" + str(df.ages.median()))\n",
    "print(\"Mode: \" + str(df.ages.mode()))"
   ]
  },
  {
   "cell_type": "code",
   "execution_count": 22,
   "metadata": {},
   "outputs": [
    {
     "name": "stdout",
     "output_type": "stream",
     "text": [
      "Ages Variance: 7.47619047619\n",
      "Standard Dev: 2.73426232761\n",
      "Standard Error: 1.03345401972\n"
     ]
    }
   ],
   "source": [
    "print(\"Ages Variance: \" + str(df.ages.var()))\n",
    "print(\"Standard Dev: \" + str(df.ages.std()))\n",
    "print(\"Standard Error: \" + str(stats.sem(df[\"ages\"])))"
   ]
  },
  {
   "cell_type": "markdown",
   "metadata": {},
   "source": [
    "Using these estimates, if I had to choose only one estimate of central tendency and one of variance, my measure of central tendency would have to be the mean, because the measures of variance all relate to the mean and the mean in this case is not far from the median."
   ]
  },
  {
   "cell_type": "code",
   "execution_count": 32,
   "metadata": {},
   "outputs": [
    {
     "name": "stdout",
     "output_type": "stream",
     "text": [
      "   ages          names\n",
      "0    14           Greg\n",
      "1    12         Marcia\n",
      "2    11          Peter\n",
      "3    10            Jan\n",
      "4     8          Bobby\n",
      "5     7          Cindy\n",
      "6     8  Cousin Oliver\n"
     ]
    }
   ],
   "source": [
    "df[\"ages\"] = [14, 12, 11, 10, 8, 7, 8]\n",
    "print(df)"
   ]
  },
  {
   "cell_type": "code",
   "execution_count": 33,
   "metadata": {},
   "outputs": [
    {
     "name": "stdout",
     "output_type": "stream",
     "text": [
      "Ages Mean: 10.0\n",
      "Median: 10.0\n",
      "Mode: 0    8\n",
      "dtype: int64\n"
     ]
    }
   ],
   "source": [
    "print(\"Ages Mean: \" + str(df.ages.mean()))\n",
    "print(\"Median: \" + str(df.ages.median()))\n",
    "print(\"Mode: \" + str(df.ages.mode()))"
   ]
  },
  {
   "cell_type": "code",
   "execution_count": 34,
   "metadata": {},
   "outputs": [
    {
     "name": "stdout",
     "output_type": "stream",
     "text": [
      "Ages Variance: 6.33333333333\n",
      "Standard Dev: 2.51661147842\n",
      "Standard Error: 0.951189731211\n"
     ]
    }
   ],
   "source": [
    "print(\"Ages Variance: \" + str(df.ages.var()))\n",
    "print(\"Standard Dev: \" + str(df.ages.std()))\n",
    "print(\"Standard Error: \" + str(stats.sem(df[\"ages\"])))"
   ]
  },
  {
   "cell_type": "markdown",
   "metadata": {},
   "source": [
    "With Cindy's birthday, the mean converges on the median, and the measures of variance decrease. Median and mode remained the same."
   ]
  },
  {
   "cell_type": "code",
   "execution_count": 35,
   "metadata": {},
   "outputs": [
    {
     "name": "stdout",
     "output_type": "stream",
     "text": [
      "   ages          names\n",
      "0    14           Greg\n",
      "1    12         Marcia\n",
      "2    11          Peter\n",
      "3    10            Jan\n",
      "4     8          Bobby\n",
      "5     7          Cindy\n",
      "6     1  Cousin Oliver\n"
     ]
    }
   ],
   "source": [
    "df[\"ages\"]= [14, 12, 11, 10, 8, 7, 1]\n",
    "print(df)"
   ]
  },
  {
   "cell_type": "code",
   "execution_count": 36,
   "metadata": {},
   "outputs": [
    {
     "name": "stdout",
     "output_type": "stream",
     "text": [
      "Ages Mean: 9.0\n",
      "Median: 10.0\n",
      "There is no mode; and evidently the scipy stats method for mode does not work when there is no mode.\n"
     ]
    }
   ],
   "source": [
    "print(\"Ages Mean: \" + str(df.ages.mean()))\n",
    "print(\"Median: \" + str(df.ages.median()))\n",
    "print(\"There is no mode; and evidently the scipy stats method for mode does not work when there is no mode.\")"
   ]
  },
  {
   "cell_type": "code",
   "execution_count": 37,
   "metadata": {},
   "outputs": [
    {
     "name": "stdout",
     "output_type": "stream",
     "text": [
      "Ages Variance: 18.0\n",
      "Standard Dev: 4.24264068712\n",
      "Standard Error: 1.60356745147\n"
     ]
    }
   ],
   "source": [
    "print(\"Ages Variance: \" + str(df.ages.var()))\n",
    "print(\"Standard Dev: \" + str(df.ages.std()))\n",
    "print(\"Standard Error: \" + str(stats.sem(df[\"ages\"])))"
   ]
  },
  {
   "cell_type": "markdown",
   "metadata": {},
   "source": [
    "The mean and median have diverged, so I prefer the median as a measure that 50% of the ages are below 10 and 50% are above 10."
   ]
  },
  {
   "cell_type": "code",
   "execution_count": 38,
   "metadata": {},
   "outputs": [],
   "source": [
    "data2 = {\"mags\": [\"TVGuide\", \"Ent Wkly\", \"Pop Culture\", \"SciPhi\"], \"scores\": [20, 23, 17, 5]}\n",
    "df2 = pd.DataFrame(data2)"
   ]
  },
  {
   "cell_type": "code",
   "execution_count": 39,
   "metadata": {},
   "outputs": [
    {
     "name": "stdout",
     "output_type": "stream",
     "text": [
      "          mags  scores\n",
      "0      TVGuide      20\n",
      "1     Ent Wkly      23\n",
      "2  Pop Culture      17\n",
      "3       SciPhi       5\n"
     ]
    }
   ],
   "source": [
    "print(df2)"
   ]
  },
  {
   "cell_type": "code",
   "execution_count": 40,
   "metadata": {},
   "outputs": [
    {
     "data": {
      "text/plain": [
       "16.25"
      ]
     },
     "execution_count": 40,
     "metadata": {},
     "output_type": "execute_result"
    }
   ],
   "source": [
    "df2.scores.mean()"
   ]
  },
  {
   "cell_type": "markdown",
   "metadata": {},
   "source": [
    "I have no information about the numbers of subscribers to each magazine, so unless I can assume that there are an equal number of subscribers to each magazine and no adult Americans without a subscription to one of these magazines, and unless I know if the respondent groups are representative samples of the subscribers, I don't really have a way to estimate what percentage of adult Americans were fans of the Brady Bunch. I could guess with a crude average, 16.25%, though I would suspect that SciPhi would have a smaller number of subscibers and that the percentages should be weighted. The other three magazines are probably a more representative sample of the general population, but still likely exclude SciFi fanatics and certainly exclude those who don't subscribe to an entertainment magazine."
   ]
  },
  {
   "cell_type": "code",
   "execution_count": null,
   "metadata": {},
   "outputs": [],
   "source": []
  }
 ],
 "metadata": {
  "kernelspec": {
   "display_name": "Python 3",
   "language": "python",
   "name": "python3"
  },
  "language_info": {
   "codemirror_mode": {
    "name": "ipython",
    "version": 3
   },
   "file_extension": ".py",
   "mimetype": "text/x-python",
   "name": "python",
   "nbconvert_exporter": "python",
   "pygments_lexer": "ipython3",
   "version": "3.6.3"
  }
 },
 "nbformat": 4,
 "nbformat_minor": 2
}
